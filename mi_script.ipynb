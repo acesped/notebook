# Paso 1: Importar librerías necesarias
import smtplib
from email.mime.text import MIMEText
from email.mime.multipart import MIMEMultipart
from email.header import Header  # Para codificar asunto correctamente
from email.utils import formataddr  # Para formatear nombres con acentos o Ñ

# Paso 2: Definir variables del correo
remitente_email = "ariel.cesped@latam.com"  # Cambia esto por tu correo
remitente_nombre = "Tu Nombre"           # Puedes poner un nombre con Ñ o tildes
destinatario_email = "ariel.cesped@latam.com"
destinatario_nombre = "Ariel Césped"
asunto = "Mensaje de prueba con Ñ y tildes"
mensaje = "Hola Mundo con Ñ y acentos: á, é, í, ó, ú."

# Paso 3: Crear el mensaje con codificación robusta
msg = MIMEMultipart()
msg["From"] = formataddr((str(Header(remitente_nombre, 'utf-8')), remitente_email))
msg["To"] = formataddr((str(Header(destinatario_nombre, 'utf-8')), destinatario_email))
msg["Subject"] = str(Header(asunto, 'utf-8'))

# Cuerpo del mensaje
msg.attach(MIMEText(mensaje, "plain", "utf-8"))

# Paso 4: Enviar correo usando SMTP de Gmail
try:
    # ⚠️ Reemplaza con tu contraseña de aplicación (no tu contraseña normal)
    password = "ouwzbiqokqltadhk"

    # Conexión al servidor SMTP
    server = smtplib.SMTP("smtp.gmail.com", 587)
    server.starttls()
    server.login(remitente_email, password)
    server.sendmail(remitente_email, destinatario_email, msg.as_string())
    server.quit()

    print("✅ Correo enviado correctamente.")
except Exception as e:
    print("❌ Error al enviar el correo:", str(e))
