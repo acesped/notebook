{
  "nbformat": 4,
  "nbformat_minor": 0,
  "metadata": {
    "colab": {
      "provenance": []
    },
    "kernelspec": {
      "name": "python3",
      "display_name": "Python 3"
    },
    "language_info": {
      "name": "python"
    }
  },
  "cells": [
    {
      "cell_type": "code",
      "execution_count": 8,
      "metadata": {
        "colab": {
          "base_uri": "https://localhost:8080/"
        },
        "id": "-LnikminT8oc",
        "outputId": "55f53119-dfe9-45ce-a97b-2ba62714bfff"
      },
      "outputs": [
        {
          "output_type": "stream",
          "name": "stdout",
          "text": [
            "✅ Correo enviado correctamente.\n"
          ]
        }
      ],
      "source": [
        "# Paso 1: Importar librerías necesarias\n",
        "import smtplib\n",
        "from email.mime.text import MIMEText\n",
        "from email.mime.multipart import MIMEMultipart\n",
        "from email.header import Header  # Para codificar asunto correctamente\n",
        "from email.utils import formataddr  # Para formatear nombres con acentos o Ñ\n",
        "\n",
        "# Paso 2: Definir variables del correo\n",
        "remitente_email = \"ariel.cesped@latam.com\"  # Cambia esto por tu correo\n",
        "remitente_nombre = \"Tu Nombre\"           # Puedes poner un nombre con Ñ o tildes\n",
        "destinatario_email = \"ariel.cesped@latam.com\"\n",
        "destinatario_nombre = \"Ariel Césped\"\n",
        "asunto = \"Mensaje de prueba con Ñ y tildes\"\n",
        "mensaje = \"Hola Mundo con Ñ y acentos: á, é, í, ó, ú.\"\n",
        "\n",
        "# Paso 3: Crear el mensaje con codificación robusta\n",
        "msg = MIMEMultipart()\n",
        "msg[\"From\"] = formataddr((str(Header(remitente_nombre, 'utf-8')), remitente_email))\n",
        "msg[\"To\"] = formataddr((str(Header(destinatario_nombre, 'utf-8')), destinatario_email))\n",
        "msg[\"Subject\"] = str(Header(asunto, 'utf-8'))\n",
        "\n",
        "# Cuerpo del mensaje\n",
        "msg.attach(MIMEText(mensaje, \"plain\", \"utf-8\"))\n",
        "\n",
        "# Paso 4: Enviar correo usando SMTP de Gmail\n",
        "try:\n",
        "    # ⚠️ Reemplaza con tu contraseña de aplicación (no tu contraseña normal)\n",
        "    password = \"ouwzbiqokqltadhk\"\n",
        "\n",
        "    # Conexión al servidor SMTP\n",
        "    server = smtplib.SMTP(\"smtp.gmail.com\", 587)\n",
        "    server.starttls()\n",
        "    server.login(remitente_email, password)\n",
        "    server.sendmail(remitente_email, destinatario_email, msg.as_string())\n",
        "    server.quit()\n",
        "\n",
        "    print(\"✅ Correo enviado correctamente.\")\n",
        "except Exception as e:\n",
        "    print(\"❌ Error al enviar el correo:\", str(e))\n"
      ]
    }
  ]
}