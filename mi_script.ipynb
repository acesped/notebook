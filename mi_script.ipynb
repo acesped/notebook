# mi_script.ipynb

from datetime import datetime

print("Notebook ejecutado desde GitHub Actions ✅")
print("Fecha y hora actual:", datetime.now())
