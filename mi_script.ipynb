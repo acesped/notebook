{
  "nbformat": 4,
  "nbformat_minor": 0,
  "metadata": {
    "colab": {
      "provenance": []
    },
    "kernelspec": {
      "name": "python3",
      "display_name": "Python 3"
    },
    "language_info": {
      "name": "python"
    }
  },
  "cells": [
    {
      "cell_type": "code",
      "execution_count": null,
      "metadata": {},
      "outputs": [],
      "source": [
        "# Paso 1: Importar librerías necesarias\n",
        "import os\n",
        "import smtplib\n",
        "from email.mime.text import MIMEText\n",
        "from email.mime.multipart import MIMEMultipart\n",
        "from email.header import Header\n",
        "from email.utils import formataddr\n"
      ]
    },
    {
      "cell_type": "code",
      "execution_count": null,
      "metadata": {},
      "outputs": [],
      "source": [
        "# Paso 2: Definir variables del correo\n",
        "remitente_email = \"ariel.cesped@latam.com\"\n",
        "remitente_nombre = \"Tu Nombre\"\n",
        "destinatario_email = \"ariel.cesped@latam.com\"\n",
        "destinatario_nombre = \"Ariel Césped\"\n",
        "asunto = \"Mensaje de prueba con Ñ y tildes\"\n",
        "mensaje = \"Hola Mundo con Ñ y acentos: á, é, í, ó, ú.\"\n"
      ]
    },
    {
      "cell_type": "code",
      "execution_count": null,
      "metadata": {},
      "outputs": [],
      "source": [
        "# Paso 3: Crear el mensaje\n",
        "msg = MIMEMultipart()\n",
        "msg[\"From\"] = formataddr((str(Header(remitente_nombre, 'utf-8')), remitente_email))\n",
        "msg[\"To\"] = formataddr((str(Header(destinatario_nombre, 'utf-8')), destinatario_email))\n",
        "msg[\"Subject\"] = str(Header(asunto, 'utf-8'))\n",
        "msg.attach(MIMEText(mensaje, \"plain\", \"utf-8\"))\n"
      ]
    },
    {
      "cell_type": "code",
      "execution_count": null,
      "metadata": {},
      "outputs": [],
      "source": [
        "# Paso 4: Enviar correo\n",
        "try:\n",
        "    # Obtiene la contraseña desde variable de entorno segura\n",
        "    password = os.environ.get(\"EMAIL_PASSWORD\")\n",
        "    if not password:\n",
        "        raise ValueError(\"⚠️ La variable de entorno EMAIL_PASSWORD no está definida.\")\n",
        "\n",
        "    server = smtplib.SMTP(\"smtp.gmail.com\", 587)\n",
        "    server.starttls()\n",
        "    server.login(remitente_email, password)\n",
        "    server.sendmail(remitente_email, destinatario_email, msg.as_string())\n",
        "    server.quit()\n",
        "\n",
        "    print(\"✅ Correo enviado correctamente.\")\n",
        "except Exception as e:\n",
        "    print(\"❌ Error al enviar el correo:\", str(e))\n"
      ]
    }
  ]
}
